{
 "cells": [
  {
   "cell_type": "markdown",
   "source": [
    "# Preparation Phase"
   ],
   "metadata": {
    "collapsed": false,
    "pycharm": {
     "name": "#%% md\n"
    }
   }
  },
  {
   "cell_type": "code",
   "execution_count": 1,
   "outputs": [],
   "source": [
    "import torch\n",
    "from transformers import PegasusForConditionalGeneration, PegasusTokenizer\n",
    "from gensim.utils import simple_preprocess\n",
    "from gensim.models.doc2vec import Doc2Vec, TaggedDocument\n",
    "import xml.etree.ElementTree as ET\n",
    "import os"
   ],
   "metadata": {
    "collapsed": false,
    "pycharm": {
     "name": "#%%\n"
    }
   }
  },
  {
   "cell_type": "code",
   "execution_count": 10,
   "outputs": [],
   "source": [
    "device = torch.device('cuda' if torch.cuda.is_available() else 'cpu')\n",
    "\n",
    "def get_summarizer():\n",
    "    model_name = 'google/pegasus-xsum'\n",
    "    tokenizer = PegasusTokenizer.from_pretrained(model_name)\n",
    "    summarizer_model = PegasusForConditionalGeneration.from_pretrained(model_name).to(device)\n",
    "    return tokenizer, summarizer_model\n",
    "\n",
    "def read_xml_files():\n",
    "    documents = []\n",
    "    for filename in os.listdir('data'):\n",
    "        if filename.endswith(\".xml\"):\n",
    "            tree = ET.parse('data/' + filename)\n",
    "            root = tree.getroot()\n",
    "            for sec in root:\n",
    "                if len(documents) > 1000:\n",
    "                    break\n",
    "                text = sec.find(\".//AbstractText\")\n",
    "                if text != None:\n",
    "                    if text.text != None:\n",
    "                        if len(text.text) > 1500:\n",
    "                            documents.append(text.text)\n",
    "            print(\"finished doc\" + filename)\n",
    "            continue\n",
    "        else:\n",
    "            continue\n",
    "\n",
    "    return documents\n",
    "\n",
    "def read_corpus(documents, tokens_only=False):\n",
    "    i = 0\n",
    "    for doc in documents:\n",
    "        tokens = simple_preprocess(doc)\n",
    "        if tokens_only:\n",
    "            yield tokens\n",
    "        else:\n",
    "            # For training data, add tags\n",
    "            yield TaggedDocument(tokens, [i])\n",
    "        i = i+1\n",
    "\n",
    "def most_similar(text):\n",
    "    processed_query = simple_preprocess(text)\n",
    "    v1 = model.infer_vector(processed_query)\n",
    "    similar_doc = model.docvecs.most_similar([v1])\n",
    "    print(\"similar_doc\", similar_doc)\n",
    "    return documents[similar_doc[0][0]]\n",
    "\n",
    "def summarize(text):\n",
    "    batch = tokenizer([text], truncation=True, padding='longest', return_tensors=\"pt\").to(device)\n",
    "    translated = summarizer_model.generate(**batch)\n",
    "    return tokenizer.batch_decode(translated, skip_special_tokens=True)[0]\n",
    "\n",
    "def train_embedding(train_corpus):\n",
    "    model = Doc2Vec(vector_size=124, window=20, min_count=2, epochs=200, workers=1)\n",
    "    model.build_vocab(train_corpus)\n",
    "    model.train(train_corpus, total_examples=model.corpus_count, epochs=model.epochs)\n",
    "    return model"
   ],
   "metadata": {
    "collapsed": false,
    "pycharm": {
     "name": "#%%\n"
    }
   }
  },
  {
   "cell_type": "code",
   "execution_count": 3,
   "outputs": [],
   "source": [
    "tokenizer, summarizer_model = get_summarizer()"
   ],
   "metadata": {
    "collapsed": false,
    "pycharm": {
     "name": "#%%\n"
    }
   }
  },
  {
   "cell_type": "code",
   "execution_count": 16,
   "outputs": [
    {
     "name": "stdout",
     "output_type": "stream",
     "text": [
      "finished docpubmed22n1109.xml\n",
      "finished docpubmed22n1110.xml\n",
      "finished docpubmed22n1111.xml\n",
      "finished docpubmed22n1112.xml\n",
      "finished docpubmed22n1113.xml\n",
      "finished docpubmed22n1114.xml\n"
     ]
    }
   ],
   "source": [
    "documents = read_xml_files()\n",
    "train_corpus = list(read_corpus(documents))\n",
    "test_corpus = list(read_corpus(documents, tokens_only=True))"
   ],
   "metadata": {
    "collapsed": false,
    "pycharm": {
     "name": "#%%\n"
    }
   }
  },
  {
   "cell_type": "code",
   "execution_count": 17,
   "outputs": [],
   "source": [
    "model = train_embedding(train_corpus)"
   ],
   "metadata": {
    "collapsed": false,
    "pycharm": {
     "name": "#%%\n"
    }
   }
  },
  {
   "cell_type": "code",
   "execution_count": 18,
   "outputs": [
    {
     "name": "stdout",
     "output_type": "stream",
     "text": [
      "Limbic-dominant age-related encephalopathy coexists with Lewy disease as well as other neuropathological changes including Alzheimer's disease.\n"
     ]
    }
   ],
   "source": [
    "test_query_full = \"Limbic-predominant age-related TDP-43 encephalopathy (LATE) is characterized by the accumulation of TAR-DNA-binding protein 43 (TDP-43) aggregates in older adults. LATE coexists with Lewy body disease (LBD) as well as other neuropathological changes including Alzheimer's disease (AD). We aimed to identify the pathological, clinical, and genetic characteristics of LATE in LBD (LATE-LBD) by comparing it with LATE in AD (LATE-AD), LATE with mixed pathology of LBD and AD (LATE-LBD+AD), and LATE alone (Pure LATE). We analyzed four cohorts of autopsy-confirmed LBD (n=313), AD (n=282), LBD+AD (n=355), and aging (n=111). We assessed the association of LATE with patient profiles including LBD subtype and AD neuropathologic change (ADNC). We studied the morphological and distributional differences between LATE-LBD and LATE-AD. By frequency analysis, we staged LATE-LBD and examined the association with cognitive impairment and genetic risk factors. Demographic analysis showed LATE associated with age in all four cohorts and the frequency of LATE was the highest in LBD+AD followed by AD, LBD, and Aging. LBD subtype and ADNC associated with LATE in LBD or AD but not in LBD+AD. Pathological analysis revealed that the hippocampal distribution of LATE was different between LATE-LBD and LATE-AD: neuronal cytoplasmic inclusions were more frequent in cornu ammonis 3 (CA3) in LATE-LBD compared to LATE-AD and abundant fine neurites composed of C-terminal truncated TDP-43 were found mainly in CA2 to subiculum in LATE-LBD, which were not as numerous in LATE-AD. Some of these fine neurites colocalized with phosphorylated α-synuclein. LATE-LBD staging showed LATE neuropathological changes spread in the dentate gyrus and brainstem earlier than in LATE-AD. The presence and prevalence of LATE in LBD associated with cognitive impairment independent of either LBD subtype or ADNC; LATE-LBD stage also associated with the genetic risk variants of TMEM106B rs1990622 and GRN rs5848. These data highlight clinicopathological and genetic features of LATE-LBD.\"\n",
    "\n",
    "# print the summary\n",
    "query_summarized = summarize(test_query_full)\n",
    "print(query_summarized)"
   ],
   "metadata": {
    "collapsed": false,
    "pycharm": {
     "name": "#%%\n"
    }
   }
  },
  {
   "cell_type": "code",
   "execution_count": 19,
   "outputs": [
    {
     "name": "stdout",
     "output_type": "stream",
     "text": [
      "Input text: Limbic-dominant age-related encephalopathy coexists with Lewy disease as well as other neuropathological changes including Alzheimer's disease.\n",
      "similar_doc [(392, 0.5208674073219299), (503, 0.5182560682296753), (28, 0.47217419743537903), (568, 0.44974690675735474), (47, 0.4488297998905182), (79, 0.44599032402038574), (6, 0.44519805908203125), (42, 0.4409126043319702), (948, 0.4400466978549957), (200, 0.43958765268325806)]\n",
      "Most similar text:\n",
      " Two-spotted spider mite, Tetranychus urticae Koch (Acari: Tetranychidae), is a cosmopolitan pest species that can feed on more than 1000 host plant species. Historically, organophosphate (OP) and carbamate insecticides have been used to control this extremely polyphagous pest. However, its ability to develop acaricide resistance rapidly has led to failure in control. Mutations in acetylcholinesterase gene (ace), the target-site of OP and carbamate insecticides, have been reported to be one of the major mechanisms underlying this developing resistance. In this study, mutations previously associated with resistance (G119S, A201S, T280A, G328A, F331W/Y) in ace have been screened in 37 T. urticae populations collected across Turkey. All mutations were found in various populations, except G119S. Almost all populations had F331W/Y mutation (being fixed in 32 populations), whereas only two populations harboured A201S mutation, but not fixed. On the other hand, more than half of the populations contained T280A and G328A mutations. In addition, the presence of same haplotypes in populations originating from distinct geographic locations and a wide variety of ace haplotypes might indicate multiple origins of F331W and F331Y mutations; however, this needs further investigation. The results of area-wide screening showed that ace mutations are widely distributed among T. urticae populations. Therefore, the use of this group of insecticides should be limited or only rotational use might be regarded as a resistance management tool due to its different mode of action from other main acaricide groups in T. urticae control across Turkey.\n"
     ]
    },
    {
     "name": "stderr",
     "output_type": "stream",
     "text": [
      "C:\\Users\\tobia\\AppData\\Local\\Temp\\ipykernel_20372\\2280739893.py:44: DeprecationWarning: Call to deprecated `docvecs` (The `docvecs` property has been renamed `dv`.).\n",
      "  similar_doc = model.docvecs.most_similar([v1])\n"
     ]
    }
   ],
   "source": [
    "print(\"Input text:\", query_summarized)\n",
    "print(\"Most similar text:\\n\", most_similar(query_summarized))"
   ],
   "metadata": {
    "collapsed": false,
    "pycharm": {
     "name": "#%%\n"
    }
   }
  },
  {
   "cell_type": "markdown",
   "source": [
    "# Use Case"
   ],
   "metadata": {
    "collapsed": false,
    "pycharm": {
     "name": "#%% md\n"
    }
   }
  },
  {
   "cell_type": "code",
   "execution_count": 20,
   "outputs": [],
   "source": [
    "query = \"breast cancer treatment\""
   ],
   "metadata": {
    "collapsed": false,
    "pycharm": {
     "name": "#%%\n"
    }
   }
  },
  {
   "cell_type": "code",
   "execution_count": 21,
   "outputs": [
    {
     "name": "stdout",
     "output_type": "stream",
     "text": [
      "Input text: breast cancer treatment\n",
      "similar_doc [(255, 0.6316928267478943), (106, 0.6054051518440247), (923, 0.5856133103370667), (978, 0.5837216377258301), (572, 0.5718222856521606), (38, 0.559840738773346), (466, 0.5579856634140015), (24, 0.5553025603294373), (399, 0.5522270798683167), (723, 0.5468785166740417)]\n",
      "Most similar text:\n",
      " The aim of this study was to evaluate the efficacy of the Ovsynch protocol in the treatment of post-service subestrus in individual dairy cows compared to a single administration of PGF2α. The study was performed on 517 Polish Friesian Holstein cows with post-service anestrus over four years in 3 dairy herds under a herd health program. Cows (n=240) diagnosed ultrasonographically as non-pregnant and with a mature corpus were treated with a single PGF2α administration and inseminated at detected estrus. Cows without corpus (n=277) were treated with the Ovsynch protocol. The estrus detection rate after PGF2α administration, percentages of cows pregnant after the treatment and at day 260, intervals from parturition to treatment and from treatment to conception and pregnancy loss rates were calculated. The overall percentage of cows pregnant after treatment did not differ between animals treated with the Ovsynch protocol and with PGF2α (38.9% vs. 42.5%; p>0.05). In herd A the percentage of cows pregnant after treatment was significantly lower (p⟨0.05) for the Ovsynch group than for the PGF2α group (30.2% vs. 61.2%). In contrast, in herd C the percentage of cows pregnant after treatment was significantly higher (p⟨0.05) in the Ovsych group than in the PGF2α group (39.6% vs. 28.8%). The overall estrus detection rate after administration of PGF2α was 59.6%. However, it was significantly lower (p⟨0.05) in herd C (44.7%) than in herds A (79.6%) and B (76.3%). The overall pregnancy loss rate ranged from 5.1% to 13.3% and did not differ significantly between herds and treatment groups (p>0.05). In conclusion, Ovsynch protocol can be a useful alternative for treatment of post-service suboestrus in individual cows in dairy herds with insufficient oestrus detection.\n"
     ]
    },
    {
     "name": "stderr",
     "output_type": "stream",
     "text": [
      "C:\\Users\\tobia\\AppData\\Local\\Temp\\ipykernel_20372\\2280739893.py:44: DeprecationWarning: Call to deprecated `docvecs` (The `docvecs` property has been renamed `dv`.).\n",
      "  similar_doc = model.docvecs.most_similar([v1])\n"
     ]
    },
    {
     "name": "stdout",
     "output_type": "stream",
     "text": [
      "Summary of most similar text:\n",
      " The Ovsynch protocol has been used for the treatment of post-service anestrus in dairy cows for many years.\n"
     ]
    }
   ],
   "source": [
    "print(\"Input text:\", query)\n",
    "most_similar_result = most_similar(query)\n",
    "print(\"Most similar text:\\n\", most_similar_result)\n",
    "print(\"Summary of most similar text:\\n\", summarize(most_similar_result))"
   ],
   "metadata": {
    "collapsed": false,
    "pycharm": {
     "name": "#%%\n"
    }
   }
  },
  {
   "cell_type": "code",
   "execution_count": 9,
   "outputs": [],
   "source": [],
   "metadata": {
    "collapsed": false,
    "pycharm": {
     "name": "#%%\n"
    }
   }
  },
  {
   "cell_type": "code",
   "execution_count": 9,
   "outputs": [],
   "source": [],
   "metadata": {
    "collapsed": false,
    "pycharm": {
     "name": "#%%\n"
    }
   }
  }
 ],
 "metadata": {
  "kernelspec": {
   "display_name": "Python 3",
   "language": "python",
   "name": "python3"
  },
  "language_info": {
   "codemirror_mode": {
    "name": "ipython",
    "version": 2
   },
   "file_extension": ".py",
   "mimetype": "text/x-python",
   "name": "python",
   "nbconvert_exporter": "python",
   "pygments_lexer": "ipython2",
   "version": "2.7.6"
  }
 },
 "nbformat": 4,
 "nbformat_minor": 0
}